{
 "cells": [
  {
   "cell_type": "code",
   "execution_count": 2,
   "metadata": {},
   "outputs": [],
   "source": [
    "import requests\n",
    "import bs4\n",
    "import pandas as pd\n",
    "import os\n",
    "from tqdm.notebook import tqdm\n",
    "import itertools\n",
    "from datetime import datetime\n"
   ]
  },
  {
   "cell_type": "code",
   "execution_count": 3,
   "metadata": {},
   "outputs": [],
   "source": [
    "if not os.path.exists('INDIA'):\n",
    "    os.mkdir('INDIA')\n",
    "dirname = os.getcwd()\n",
    "filename = os.path.join(dirname, 'INDIA')"
   ]
  },
  {
   "cell_type": "code",
   "execution_count": 4,
   "metadata": {},
   "outputs": [],
   "source": [
    "def parse_data(data, type):\n",
    "    soup = bs4.BeautifulSoup(data, 'html.parser')\n",
    "    rows = soup.find_all('tr')\n",
    "    headers_list = rows[0].find_all_next('th')\n",
    "    headers = [header.text.strip().replace('\\xa0', ' ') for header in headers_list]\n",
    "    rows = rows[1:] # удаляем нулевую строку с заголовками\n",
    "    rows = [row.find_all('td') for row in rows] # достаем столбцы из каждой строки таблицы (кроме заголовков)\n",
    "    rows_data = []\n",
    "    for row in rows:\n",
    "        rows_data.append([col.text.strip().lstrip().replace('\\xa0', ' ') for col in row])\n",
    "    df = pd.DataFrame(columns = headers, data=rows_data)\n",
    "    if (type=='q'):\n",
    "        df = df[[headers[0], headers[1], headers[2], headers[5], headers[3]]].rename(columns={headers[5] : 'Quantity'})\n",
    "    else:\n",
    "        df = df[[headers[0], headers[1], headers[2], headers[4]]].rename(columns={headers[4] : 'USD'})\n",
    "    return(df)"
   ]
  },
  {
   "cell_type": "code",
   "execution_count": 5,
   "metadata": {},
   "outputs": [],
   "source": [
    "def get_table_in_quantity_and_usd(month, year):\n",
    "    # количество\n",
    "    data_for_quantity = {\n",
    "        'radioCY': 1,\n",
    "        'Mm1': month,\n",
    "        'yy1': year,\n",
    "        'cntcode': 344,\n",
    "        'hslevel': 8,\n",
    "        'sort': 0,\n",
    "        'radioDAll': 1,\n",
    "        'radioqty': 1\n",
    "    }\n",
    "    # usd\n",
    "    data_for_usd = {\n",
    "        'radioCY': 1,\n",
    "        'Mm1': month,\n",
    "        'yy1': year,\n",
    "        'cntcode': 344,\n",
    "        'hslevel': 8,\n",
    "        'sort': 0,\n",
    "        'radioDAll': 1,\n",
    "        'radiousd': 1\n",
    "    }\n",
    "    # India export data\n",
    "    url = 'https://tradestat.commerce.gov.in/meidb/cntcom.asp?ie=e'\n",
    "    response = requests.post(url, data=data_for_quantity, verify=False).text\n",
    "    df_q = parse_data(response, type='q')\n",
    "    response = requests.post(url, data=data_for_usd, verify=False).text\n",
    "    df_usd = parse_data(response, type='usd')\n",
    "    df_ex = df_usd.merge(df_q, how='inner', on=['HSCode', 'Commodity', 'S.No.'])\n",
    "    df_ex['Flow'] = 'Ex'\n",
    "    # India import data\n",
    "    url = 'https://tradestat.commerce.gov.in/meidb/cntcom.asp?ie=i'\n",
    "    response = requests.post(url, data=data_for_quantity, verify=False).text\n",
    "    df_q = parse_data(response, type='q')\n",
    "    response = requests.post(url, data=data_for_usd, verify=False).text\n",
    "    df_usd = parse_data(response, type='usd')\n",
    "    df_im = df_usd.merge(df_q, how='inner', on=['HSCode', 'Commodity', 'S.No.'])\n",
    "    df_im['Flow'] = 'Im'\n",
    "    df = pd.concat([df_im, df_ex])\n",
    "    df['HSCode'] = df['HSCode'].str.zfill(8)\n",
    "    df.to_csv(filename + '/full' + str(year) + f\"{month:02d}\" + '.csv')"
   ]
  },
  {
   "cell_type": "code",
   "execution_count": 5,
   "metadata": {},
   "outputs": [],
   "source": [
    "# check latest month here\n",
    "# https://tradestat.commerce.gov.in/meidb/cntcomq.asp?ie=e"
   ]
  },
  {
   "cell_type": "code",
   "execution_count": 6,
   "metadata": {},
   "outputs": [],
   "source": [
    "last = (2025,2)\n",
    "a = [x for x in range(2010, last[0]+1)]\n",
    "b = [x for x in range(1,13)]\n",
    "all_dates = set([x for x in list(itertools.product(a, b)) if (x[0]<=last[0]-1) or (x[0]==last[0] and x[1]<=last[1])])"
   ]
  },
  {
   "cell_type": "code",
   "execution_count": 7,
   "metadata": {},
   "outputs": [
    {
     "data": {
      "text/plain": [
       "set()"
      ]
     },
     "execution_count": 7,
     "metadata": {},
     "output_type": "execute_result"
    }
   ],
   "source": [
    "downloaded = set([ (int(x.split('.')[0][4:8]), int(x.split('.')[0][8:10])) for x in os.listdir('INDIA')])\n",
    "to_download = all_dates - downloaded\n",
    "to_download"
   ]
  },
  {
   "cell_type": "code",
   "execution_count": 8,
   "metadata": {},
   "outputs": [
    {
     "ename": "ImportError",
     "evalue": "IProgress not found. Please update jupyter and ipywidgets. See https://ipywidgets.readthedocs.io/en/stable/user_install.html",
     "output_type": "error",
     "traceback": [
      "\u001b[1;31m---------------------------------------------------------------------------\u001b[0m",
      "\u001b[1;31mImportError\u001b[0m                               Traceback (most recent call last)",
      "Cell \u001b[1;32mIn[8], line 1\u001b[0m\n\u001b[1;32m----> 1\u001b[0m \u001b[38;5;28;01mfor\u001b[39;00m i \u001b[38;5;129;01min\u001b[39;00m \u001b[43mtqdm\u001b[49m\u001b[43m(\u001b[49m\u001b[43mto_download\u001b[49m\u001b[43m)\u001b[49m:\n\u001b[0;32m      2\u001b[0m     \u001b[38;5;28mprint\u001b[39m(\u001b[38;5;124m'\u001b[39m\u001b[38;5;124mDownloading \u001b[39m\u001b[38;5;124m'\u001b[39m \u001b[38;5;241m+\u001b[39m \u001b[38;5;28mstr\u001b[39m(i[\u001b[38;5;241m0\u001b[39m]) \u001b[38;5;241m+\u001b[39m \u001b[38;5;124m'\u001b[39m\u001b[38;5;124m, month \u001b[39m\u001b[38;5;124m'\u001b[39m \u001b[38;5;241m+\u001b[39m \u001b[38;5;28mstr\u001b[39m(i[\u001b[38;5;241m1\u001b[39m]))\n\u001b[0;32m      3\u001b[0m     get_table_in_quantity_and_usd(i[\u001b[38;5;241m1\u001b[39m], i[\u001b[38;5;241m0\u001b[39m])\n",
      "File \u001b[1;32mh:\\conda\\envs\\py312\\Lib\\site-packages\\tqdm\\notebook.py:234\u001b[0m, in \u001b[0;36mtqdm_notebook.__init__\u001b[1;34m(self, *args, **kwargs)\u001b[0m\n\u001b[0;32m    232\u001b[0m unit_scale \u001b[38;5;241m=\u001b[39m \u001b[38;5;241m1\u001b[39m \u001b[38;5;28;01mif\u001b[39;00m \u001b[38;5;28mself\u001b[39m\u001b[38;5;241m.\u001b[39munit_scale \u001b[38;5;129;01mis\u001b[39;00m \u001b[38;5;28;01mTrue\u001b[39;00m \u001b[38;5;28;01melse\u001b[39;00m \u001b[38;5;28mself\u001b[39m\u001b[38;5;241m.\u001b[39munit_scale \u001b[38;5;129;01mor\u001b[39;00m \u001b[38;5;241m1\u001b[39m\n\u001b[0;32m    233\u001b[0m total \u001b[38;5;241m=\u001b[39m \u001b[38;5;28mself\u001b[39m\u001b[38;5;241m.\u001b[39mtotal \u001b[38;5;241m*\u001b[39m unit_scale \u001b[38;5;28;01mif\u001b[39;00m \u001b[38;5;28mself\u001b[39m\u001b[38;5;241m.\u001b[39mtotal \u001b[38;5;28;01melse\u001b[39;00m \u001b[38;5;28mself\u001b[39m\u001b[38;5;241m.\u001b[39mtotal\n\u001b[1;32m--> 234\u001b[0m \u001b[38;5;28mself\u001b[39m\u001b[38;5;241m.\u001b[39mcontainer \u001b[38;5;241m=\u001b[39m \u001b[38;5;28;43mself\u001b[39;49m\u001b[38;5;241;43m.\u001b[39;49m\u001b[43mstatus_printer\u001b[49m\u001b[43m(\u001b[49m\u001b[38;5;28;43mself\u001b[39;49m\u001b[38;5;241;43m.\u001b[39;49m\u001b[43mfp\u001b[49m\u001b[43m,\u001b[49m\u001b[43m \u001b[49m\u001b[43mtotal\u001b[49m\u001b[43m,\u001b[49m\u001b[43m \u001b[49m\u001b[38;5;28;43mself\u001b[39;49m\u001b[38;5;241;43m.\u001b[39;49m\u001b[43mdesc\u001b[49m\u001b[43m,\u001b[49m\u001b[43m \u001b[49m\u001b[38;5;28;43mself\u001b[39;49m\u001b[38;5;241;43m.\u001b[39;49m\u001b[43mncols\u001b[49m\u001b[43m)\u001b[49m\n\u001b[0;32m    235\u001b[0m \u001b[38;5;28mself\u001b[39m\u001b[38;5;241m.\u001b[39mcontainer\u001b[38;5;241m.\u001b[39mpbar \u001b[38;5;241m=\u001b[39m proxy(\u001b[38;5;28mself\u001b[39m)\n\u001b[0;32m    236\u001b[0m \u001b[38;5;28mself\u001b[39m\u001b[38;5;241m.\u001b[39mdisplayed \u001b[38;5;241m=\u001b[39m \u001b[38;5;28;01mFalse\u001b[39;00m\n",
      "File \u001b[1;32mh:\\conda\\envs\\py312\\Lib\\site-packages\\tqdm\\notebook.py:108\u001b[0m, in \u001b[0;36mtqdm_notebook.status_printer\u001b[1;34m(_, total, desc, ncols)\u001b[0m\n\u001b[0;32m     99\u001b[0m \u001b[38;5;66;03m# Fallback to text bar if there's no total\u001b[39;00m\n\u001b[0;32m    100\u001b[0m \u001b[38;5;66;03m# DEPRECATED: replaced with an 'info' style bar\u001b[39;00m\n\u001b[0;32m    101\u001b[0m \u001b[38;5;66;03m# if not total:\u001b[39;00m\n\u001b[1;32m   (...)\u001b[0m\n\u001b[0;32m    105\u001b[0m \n\u001b[0;32m    106\u001b[0m \u001b[38;5;66;03m# Prepare IPython progress bar\u001b[39;00m\n\u001b[0;32m    107\u001b[0m \u001b[38;5;28;01mif\u001b[39;00m IProgress \u001b[38;5;129;01mis\u001b[39;00m \u001b[38;5;28;01mNone\u001b[39;00m:  \u001b[38;5;66;03m# #187 #451 #558 #872\u001b[39;00m\n\u001b[1;32m--> 108\u001b[0m     \u001b[38;5;28;01mraise\u001b[39;00m \u001b[38;5;167;01mImportError\u001b[39;00m(WARN_NOIPYW)\n\u001b[0;32m    109\u001b[0m \u001b[38;5;28;01mif\u001b[39;00m total:\n\u001b[0;32m    110\u001b[0m     pbar \u001b[38;5;241m=\u001b[39m IProgress(\u001b[38;5;28mmin\u001b[39m\u001b[38;5;241m=\u001b[39m\u001b[38;5;241m0\u001b[39m, \u001b[38;5;28mmax\u001b[39m\u001b[38;5;241m=\u001b[39mtotal)\n",
      "\u001b[1;31mImportError\u001b[0m: IProgress not found. Please update jupyter and ipywidgets. See https://ipywidgets.readthedocs.io/en/stable/user_install.html"
     ]
    }
   ],
   "source": [
    "for i in tqdm(to_download):\n",
    "    print('Downloading ' + str(i[0]) + ', month ' + str(i[1]))\n",
    "    get_table_in_quantity_and_usd(i[1], i[0])"
   ]
  },
  {
   "cell_type": "code",
   "execution_count": null,
   "metadata": {},
   "outputs": [],
   "source": []
  }
 ],
 "metadata": {
  "kernelspec": {
   "display_name": "py312",
   "language": "python",
   "name": "python3"
  },
  "language_info": {
   "codemirror_mode": {
    "name": "ipython",
    "version": 3
   },
   "file_extension": ".py",
   "mimetype": "text/x-python",
   "name": "python",
   "nbconvert_exporter": "python",
   "pygments_lexer": "ipython3",
   "version": "3.12.3"
  }
 },
 "nbformat": 4,
 "nbformat_minor": 4
}
