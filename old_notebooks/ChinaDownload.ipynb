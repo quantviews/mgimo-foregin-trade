{
 "cells": [
  {
   "cell_type": "code",
   "execution_count": 1,
   "metadata": {},
   "outputs": [],
   "source": [
    "import os\n",
    "import pandas as pd"
   ]
  },
  {
   "cell_type": "code",
   "execution_count": 3,
   "metadata": {},
   "outputs": [],
   "source": [
    "import rpy2"
   ]
  },
  {
   "cell_type": "code",
   "execution_count": 2,
   "metadata": {},
   "outputs": [],
   "source": [
    "#import rpy2.robjects as robjects\n",
    "#from rpy2.robjects import pandas2ri\n",
    "#readRDS = robjects.r['readRDS']\n",
    "#df = readRDS('df-10-znak.RDS')\n",
    "#df = pandas2ri.rpy2py_dataframe(df)"
   ]
  },
  {
   "cell_type": "code",
   "execution_count": null,
   "metadata": {},
   "outputs": [],
   "source": [
    "# Download latest month here\n",
    "# http://stats.customs.gov.cn/indexEn\n",
    "# http://43.248.49.97/indexEn"
   ]
  },
  {
   "cell_type": "code",
   "execution_count": 4,
   "metadata": {},
   "outputs": [],
   "source": [
    "# система такая: сначала скачивается 1 файл 'downloadData.csv', он появляется в загрузках. Далее мы запускаем функцию,\n",
    "# в которую вводим 3 переменные (год, месяц и экспорт/импорт - такие же, какие указали на сайте при скачивании). Функция\n",
    "# преобразует csv файл к нужному формату и сохраняет либо в папке экспорт, либо в папке импорт (здесь уже указаны отзеркаленные\n",
    "# данные, от лица россии), сам файл 'downloadData.csv' удаляется, таким образом, мы можем скачать новый файл с сайта и проделать ту же работу."
   ]
  },
  {
   "cell_type": "code",
   "execution_count": 4,
   "metadata": {},
   "outputs": [
    {
     "data": {
      "text/plain": [
       "'C:\\\\Users\\\\marce\\\\Downloads'"
      ]
     },
     "execution_count": null,
     "metadata": {},
     "output_type": "execute_result"
    }
   ],
   "source": [
    "def get_download_path():\n",
    "    \"\"\"Returns the default downloads path for linux or windows\"\"\"\n",
    "    if os.name == 'nt':\n",
    "        import winreg\n",
    "        sub_key = r'SOFTWARE\\Microsoft\\Windows\\CurrentVersion\\Explorer\\Shell Folders'\n",
    "        downloads_guid = '{374DE290-123F-4565-9164-39C4925E467B}'\n",
    "        with winreg.OpenKey(winreg.HKEY_CURRENT_USER, sub_key) as key:\n",
    "            location = winreg.QueryValueEx(key, downloads_guid)[0]\n",
    "        return location\n",
    "    else:\n",
    "        return os.path.join(os.path.expanduser('~'), 'downloads')\n",
    "get_download_path()"
   ]
  },
  {
   "cell_type": "code",
   "execution_count": 5,
   "metadata": {},
   "outputs": [],
   "source": [
    "def get_table(YEAR,MONTH,TYPE): \n",
    "    # для 2017-2021 годов появляется столбец 'Unnamed: 9', для 2022 - 'Unnamed: 10',  \n",
    "    # если будет ошибка, заменить 'Unnamed: 9' на 'Unnamed: 10' в строке df.drop\n",
    "    d_path = get_download_path()\n",
    "    filename_im = os.path.join(dirname, 'CHINA/IMPORT')\n",
    "    filename_ex = os.path.join(dirname, 'CHINA/EXPORT')\n",
    "\n",
    "    \n",
    "    df = pd.read_csv(d_path + '/downloadData.csv', encoding='ISO-8859-1', on_bad_lines='skip')\n",
    "    \n",
    "    df = df.rename(columns={'Commodity code' : 'TNVED', 'US dollar' : 'STOIM', 'Quantity' : 'NETTO', 'Supplimentary Quantity' : 'KOL', 'Supplimentary Unit' : 'EDIZM'})\n",
    "    df = df.drop({'Commodity', 'Trading partner code', 'Trading partner', 'Unit'}, axis=1)\n",
    "    df = df.loc[:, ~df.columns.str.startswith('Unnamed')]\n",
    "    df['PERIOD'] = YEAR + '-' + MONTH\n",
    "\n",
    "    df['TNVED'] = df['TNVED'].apply(lambda x: f'{str(x).zfill(8)}')\n",
    "    df['TNVED2'] = df['TNVED'].astype(str).apply(lambda x: x[:2]).apply(lambda x: f'{str(x).zfill(2)}')\n",
    "    df['TNVED4'] = df['TNVED'].astype(str).apply(lambda x: x[:4]).apply(lambda x: f'{str(x).zfill(4)}')\n",
    "    df['TNVED6'] = df['TNVED'].astype(str).apply(lambda x: x[:6]).apply(lambda x: f'{str(x).zfill(6)}')\n",
    "\n",
    "    #df['STOIM'] = df['STOIM'].apply(lambda x: x[:-1]).apply(lambda x: x.replace(\",\" , \"\")).astype(float)\n",
    "    df['STOIM'] = df['STOIM'].apply(lambda x: x.replace(\",\" , \"\")).astype(float)\n",
    "    df['STRANA'] = 'CH'\n",
    "    if TYPE == 'ИМ':\n",
    "        df['NAPR'] = 'ЭК'\n",
    "        df.to_csv(filename_ex + '/' + f'data{YEAR}{str(MONTH).zfill(2)}.csv',index=False, encoding='utf-8-sig')\n",
    "    elif TYPE == 'ЭК':\n",
    "        df['NAPR'] = 'ИМ'\n",
    "        df.to_csv(filename_im + '/' + f'data{YEAR}{str(MONTH).zfill(2)}.csv',index=False, encoding='utf-8-sig')\n",
    "\n",
    "    os.remove(d_path + '/downloadData.csv')"
   ]
  },
  {
   "cell_type": "code",
   "execution_count": 6,
   "metadata": {},
   "outputs": [],
   "source": [
    "if not os.path.exists('CHINA/EXPORT'):\n",
    "    os.mkdir('CHINA/EXPORT')\n",
    "if not os.path.exists('CHINA/IMPORT'):\n",
    "    os.mkdir('CHINA/IMPORT')\n",
    "dirname = os.getcwd()"
   ]
  },
  {
   "cell_type": "code",
   "execution_count": 65,
   "metadata": {},
   "outputs": [],
   "source": [
    "YEAR = '2025'\n",
    "MONTH = '05'"
   ]
  },
  {
   "cell_type": "code",
   "execution_count": 64,
   "metadata": {},
   "outputs": [],
   "source": [
    "get_table(YEAR,MONTH,'ИМ')"
   ]
  },
  {
   "cell_type": "code",
   "execution_count": 62,
   "metadata": {},
   "outputs": [],
   "source": [
    "get_table(YEAR,MONTH,'ЭК')"
   ]
  }
 ],
 "metadata": {
  "interpreter": {
   "hash": "aee8b7b246df8f9039afb4144a1f6fd8d2ca17a180786b69acc140d282b71a49"
  },
  "kernelspec": {
   "display_name": "Python 3 (ipykernel)",
   "language": "python",
   "name": "python3"
  },
  "language_info": {
   "name": "python"
  }
 },
 "nbformat": 4,
 "nbformat_minor": 4
}
